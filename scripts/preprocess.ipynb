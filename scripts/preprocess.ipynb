{
 "cells": [
  {
   "cell_type": "code",
   "execution_count": 6,
   "metadata": {},
   "outputs": [
    {
     "name": "stdout",
     "output_type": "stream",
     "text": [
      "         day  distance(m)\n",
      "0 2021-06-18        333.0\n",
      "1 2021-06-19       8400.0\n",
      "2 2021-06-20       4000.0\n",
      "3 2021-06-21       4900.0\n",
      "4 2021-06-22        640.0\n"
     ]
    }
   ],
   "source": [
    "import pandas as pd\n",
    "\n",
    "# Lecture du fichier Excel\n",
    "file_path = \"../data/perf_kilo.xlsx\"\n",
    "try:\n",
    "    df = pd.read_excel(file_path, sheet_name=\"distance\")\n",
    "    print(df.head())\n",
    "except Exception as e:\n",
    "    print(f\"Une erreur s'est produite : {e}\")\n"
   ]
  }
 ],
 "metadata": {
  "kernelspec": {
   "display_name": "distenv",
   "language": "python",
   "name": "python3"
  },
  "language_info": {
   "codemirror_mode": {
    "name": "ipython",
    "version": 3
   },
   "file_extension": ".py",
   "mimetype": "text/x-python",
   "name": "python",
   "nbconvert_exporter": "python",
   "pygments_lexer": "ipython3",
   "version": "3.12.1"
  }
 },
 "nbformat": 4,
 "nbformat_minor": 2
}
