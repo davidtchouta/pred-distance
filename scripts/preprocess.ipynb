{
 "cells": [
  {
   "cell_type": "code",
   "execution_count": 2,
   "metadata": {},
   "outputs": [
    {
     "name": "stdout",
     "output_type": "stream",
     "text": [
      "         day  distance(m)\n",
      "0 2021-06-18        333.0\n",
      "1 2021-06-19       8400.0\n",
      "2 2021-06-20       4000.0\n",
      "3 2021-06-21       4900.0\n",
      "4 2021-06-22        640.0\n"
     ]
    }
   ],
   "source": [
    "import pandas as pd\n",
    "\n",
    "# Lecture du fichier Excel\n",
    "file_path = \"../data/perf_kilo.xlsx\"\n",
    "try:\n",
    "    df = pd.read_excel(file_path, sheet_name=\"distance\")\n",
    "    print(df.head())\n",
    "except Exception as e:\n",
    "    print(f\"Une erreur s'est produite : {e}\")\n"
   ]
  },
  {
   "cell_type": "code",
   "execution_count": 3,
   "metadata": {},
   "outputs": [
    {
     "data": {
      "text/html": [
       "<div>\n",
       "<style scoped>\n",
       "    .dataframe tbody tr th:only-of-type {\n",
       "        vertical-align: middle;\n",
       "    }\n",
       "\n",
       "    .dataframe tbody tr th {\n",
       "        vertical-align: top;\n",
       "    }\n",
       "\n",
       "    .dataframe thead th {\n",
       "        text-align: right;\n",
       "    }\n",
       "</style>\n",
       "<table border=\"1\" class=\"dataframe\">\n",
       "  <thead>\n",
       "    <tr style=\"text-align: right;\">\n",
       "      <th></th>\n",
       "      <th>day</th>\n",
       "      <th>distance(m)</th>\n",
       "    </tr>\n",
       "  </thead>\n",
       "  <tbody>\n",
       "    <tr>\n",
       "      <th>count</th>\n",
       "      <td>1308</td>\n",
       "      <td>1246.000000</td>\n",
       "    </tr>\n",
       "    <tr>\n",
       "      <th>mean</th>\n",
       "      <td>2023-04-02 12:00:00</td>\n",
       "      <td>2909.093900</td>\n",
       "    </tr>\n",
       "    <tr>\n",
       "      <th>min</th>\n",
       "      <td>2021-06-18 00:00:00</td>\n",
       "      <td>9.000000</td>\n",
       "    </tr>\n",
       "    <tr>\n",
       "      <th>25%</th>\n",
       "      <td>2022-05-10 18:00:00</td>\n",
       "      <td>1100.000000</td>\n",
       "    </tr>\n",
       "    <tr>\n",
       "      <th>50%</th>\n",
       "      <td>2023-04-02 12:00:00</td>\n",
       "      <td>2300.000000</td>\n",
       "    </tr>\n",
       "    <tr>\n",
       "      <th>75%</th>\n",
       "      <td>2024-02-23 06:00:00</td>\n",
       "      <td>4200.000000</td>\n",
       "    </tr>\n",
       "    <tr>\n",
       "      <th>max</th>\n",
       "      <td>2025-01-15 00:00:00</td>\n",
       "      <td>15600.000000</td>\n",
       "    </tr>\n",
       "    <tr>\n",
       "      <th>std</th>\n",
       "      <td>NaN</td>\n",
       "      <td>2434.651484</td>\n",
       "    </tr>\n",
       "  </tbody>\n",
       "</table>\n",
       "</div>"
      ],
      "text/plain": [
       "                       day   distance(m)\n",
       "count                 1308   1246.000000\n",
       "mean   2023-04-02 12:00:00   2909.093900\n",
       "min    2021-06-18 00:00:00      9.000000\n",
       "25%    2022-05-10 18:00:00   1100.000000\n",
       "50%    2023-04-02 12:00:00   2300.000000\n",
       "75%    2024-02-23 06:00:00   4200.000000\n",
       "max    2025-01-15 00:00:00  15600.000000\n",
       "std                    NaN   2434.651484"
      ]
     },
     "execution_count": 3,
     "metadata": {},
     "output_type": "execute_result"
    }
   ],
   "source": [
    "df.describe()"
   ]
  },
  {
   "cell_type": "code",
   "execution_count": 4,
   "metadata": {},
   "outputs": [
    {
     "name": "stdout",
     "output_type": "stream",
     "text": [
      "<class 'pandas.core.frame.DataFrame'>\n",
      "RangeIndex: 1308 entries, 0 to 1307\n",
      "Data columns (total 2 columns):\n",
      " #   Column       Non-Null Count  Dtype         \n",
      "---  ------       --------------  -----         \n",
      " 0   day          1308 non-null   datetime64[ns]\n",
      " 1   distance(m)  1246 non-null   float64       \n",
      "dtypes: datetime64[ns](1), float64(1)\n",
      "memory usage: 20.6 KB\n"
     ]
    }
   ],
   "source": [
    "df.info()"
   ]
  },
  {
   "cell_type": "code",
   "execution_count": 12,
   "metadata": {},
   "outputs": [
    {
     "data": {
      "text/plain": [
       "1308"
      ]
     },
     "execution_count": 12,
     "metadata": {},
     "output_type": "execute_result"
    }
   ],
   "source": [
    "len(df['distance(m)'].isna())"
   ]
  },
  {
   "cell_type": "code",
   "execution_count": 15,
   "metadata": {},
   "outputs": [
    {
     "data": {
      "text/plain": [
       "np.int64(1246)"
      ]
     },
     "execution_count": 15,
     "metadata": {},
     "output_type": "execute_result"
    }
   ],
   "source": [
    "df['distance(m)'].count()"
   ]
  },
  {
   "cell_type": "code",
   "execution_count": 11,
   "metadata": {},
   "outputs": [
    {
     "name": "stdout",
     "output_type": "stream",
     "text": [
      "day            2024-11-14 00:00:00\n",
      "distance(m)                  900.0\n",
      "Name: 1245, dtype: object\n"
     ]
    }
   ],
   "source": [
    "print(df.iloc[1245])"
   ]
  },
  {
   "cell_type": "code",
   "execution_count": 17,
   "metadata": {},
   "outputs": [
    {
     "name": "stdout",
     "output_type": "stream",
     "text": [
      "<class 'pandas.core.frame.DataFrame'>\n",
      "RangeIndex: 1246 entries, 0 to 1245\n",
      "Data columns (total 2 columns):\n",
      " #   Column       Non-Null Count  Dtype         \n",
      "---  ------       --------------  -----         \n",
      " 0   day          1246 non-null   datetime64[ns]\n",
      " 1   distance(m)  1246 non-null   float64       \n",
      "dtypes: datetime64[ns](1), float64(1)\n",
      "memory usage: 19.6 KB\n"
     ]
    }
   ],
   "source": [
    "dist = df.iloc[0:1246]\n",
    "dist.info()"
   ]
  },
  {
   "cell_type": "code",
   "execution_count": 18,
   "metadata": {},
   "outputs": [
    {
     "data": {
      "text/html": [
       "<div>\n",
       "<style scoped>\n",
       "    .dataframe tbody tr th:only-of-type {\n",
       "        vertical-align: middle;\n",
       "    }\n",
       "\n",
       "    .dataframe tbody tr th {\n",
       "        vertical-align: top;\n",
       "    }\n",
       "\n",
       "    .dataframe thead th {\n",
       "        text-align: right;\n",
       "    }\n",
       "</style>\n",
       "<table border=\"1\" class=\"dataframe\">\n",
       "  <thead>\n",
       "    <tr style=\"text-align: right;\">\n",
       "      <th></th>\n",
       "      <th>day</th>\n",
       "      <th>distance(m)</th>\n",
       "    </tr>\n",
       "  </thead>\n",
       "  <tbody>\n",
       "    <tr>\n",
       "      <th>1241</th>\n",
       "      <td>2024-11-10</td>\n",
       "      <td>2000.0</td>\n",
       "    </tr>\n",
       "    <tr>\n",
       "      <th>1242</th>\n",
       "      <td>2024-11-11</td>\n",
       "      <td>2700.0</td>\n",
       "    </tr>\n",
       "    <tr>\n",
       "      <th>1243</th>\n",
       "      <td>2024-11-12</td>\n",
       "      <td>1100.0</td>\n",
       "    </tr>\n",
       "    <tr>\n",
       "      <th>1244</th>\n",
       "      <td>2024-11-13</td>\n",
       "      <td>2500.0</td>\n",
       "    </tr>\n",
       "    <tr>\n",
       "      <th>1245</th>\n",
       "      <td>2024-11-14</td>\n",
       "      <td>900.0</td>\n",
       "    </tr>\n",
       "  </tbody>\n",
       "</table>\n",
       "</div>"
      ],
      "text/plain": [
       "            day  distance(m)\n",
       "1241 2024-11-10       2000.0\n",
       "1242 2024-11-11       2700.0\n",
       "1243 2024-11-12       1100.0\n",
       "1244 2024-11-13       2500.0\n",
       "1245 2024-11-14        900.0"
      ]
     },
     "execution_count": 18,
     "metadata": {},
     "output_type": "execute_result"
    }
   ],
   "source": [
    "dist.tail()"
   ]
  },
  {
   "cell_type": "code",
   "execution_count": 19,
   "metadata": {},
   "outputs": [],
   "source": [
    "from utils import data_import"
   ]
  },
  {
   "cell_type": "code",
   "execution_count": 20,
   "metadata": {},
   "outputs": [
    {
     "name": "stdout",
     "output_type": "stream",
     "text": [
      "         day  distance(m)\n",
      "0 2021-06-18        333.0\n",
      "1 2021-06-19       8400.0\n",
      "2 2021-06-20       4000.0\n",
      "3 2021-06-21       4900.0\n",
      "4 2021-06-22        640.0\n",
      "Importation réussie !\n"
     ]
    }
   ],
   "source": [
    "# Appel de la fonction avec un chemin de fichier\n",
    "file_path = \"../data/perf_kilo.xlsx\"\n",
    "data = data_import(file_path)\n",
    "\n",
    "if data is not None:\n",
    "    print(\"Importation réussie !\")\n",
    "else:\n",
    "    print(\"Échec de l'importation.\")\n"
   ]
  },
  {
   "cell_type": "code",
   "execution_count": 8,
   "metadata": {},
   "outputs": [
    {
     "name": "stdout",
     "output_type": "stream",
     "text": [
      "         day  distance(m)\n",
      "0 2021-06-18        333.0\n",
      "1 2021-06-19       8400.0\n",
      "2 2021-06-20       4000.0\n",
      "3 2021-06-21       4900.0\n",
      "4 2021-06-22        640.0\n",
      "62 ligne(s) vide(s) supprimée(s).\n",
      "\n",
      "DataFrame nettoyé :\n",
      "            day  distance(m)\n",
      "0    2021-06-18        333.0\n",
      "1    2021-06-19       8400.0\n",
      "2    2021-06-20       4000.0\n",
      "3    2021-06-21       4900.0\n",
      "4    2021-06-22        640.0\n",
      "...         ...          ...\n",
      "1241 2024-11-10       2000.0\n",
      "1242 2024-11-11       2700.0\n",
      "1243 2024-11-12       1100.0\n",
      "1244 2024-11-13       2500.0\n",
      "1245 2024-11-14        900.0\n",
      "\n",
      "[1246 rows x 2 columns]\n"
     ]
    }
   ],
   "source": [
    "from utils import data_import, removed\n",
    "\n",
    "# Chemin vers le fichier Excel\n",
    "file_path = \"../data/perf_kilo.xlsx\"\n",
    "\n",
    "# Étape 1 : Importer les données\n",
    "df = data_import(file_path)\n",
    "\n",
    "# Étape 2 : Nettoyer les données en supprimant les lignes vides\n",
    "cleaned_df = removed(df)\n",
    "\n",
    "# Affichage du résultat final\n",
    "if cleaned_df is not None:\n",
    "    print(\"\\nDataFrame nettoyé :\")\n",
    "    print(cleaned_df)\n"
   ]
  }
 ],
 "metadata": {
  "kernelspec": {
   "display_name": "distenv",
   "language": "python",
   "name": "python3"
  },
  "language_info": {
   "codemirror_mode": {
    "name": "ipython",
    "version": 3
   },
   "file_extension": ".py",
   "mimetype": "text/x-python",
   "name": "python",
   "nbconvert_exporter": "python",
   "pygments_lexer": "ipython3",
   "version": "3.12.1"
  }
 },
 "nbformat": 4,
 "nbformat_minor": 2
}
